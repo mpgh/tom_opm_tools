{
 "cells": [
  {
   "cell_type": "code",
   "execution_count": 2,
   "id": "96433fd9-e7e6-490c-acee-2fe7b66b53ac",
   "metadata": {},
   "outputs": [],
   "source": [
    "import datetime\n",
    "import io\n",
    "\n",
    "import matplotlib.pyplot as plt\n",
    "import numpy as np\n",
    "import pandas as pd\n",
    "import requests"
   ]
  },
  {
   "cell_type": "code",
   "execution_count": 50,
   "id": "e504fe9c-42ce-4f8f-ae54-6260deafbfc9",
   "metadata": {},
   "outputs": [],
   "source": [
    "r = requests.post(\n",
    "    \"https://api.fink-portal.org/api/v1/latests\",\n",
    "    json={\n",
    "        \"class\": \"Microlensing candidate\",\n",
    "        \"output-format\": \"json\",\n",
    "        \"output-format\": \"json\",\n",
    "        \"n\": 2000,\n",
    "    },\n",
    ")\n",
    "pdf = pd.read_json(io.BytesIO(r.content))\n",
    "#pdf.to_csv(\"test_query_2k_microlensing_Aug2025.csv\")"
   ]
  },
  {
   "cell_type": "code",
   "execution_count": 58,
   "id": "71ea59cd-09dc-4a57-bf9e-22e84a04f53d",
   "metadata": {},
   "outputs": [],
   "source": [
    "year = str(datetime.datetime.now().year)[2:]\n",
    "last_year = str(datetime.datetime.now().year - 1)[2:]\n",
    "unique_recent = np.concatenate(\n",
    "    [\n",
    "        pdf[pdf[\"i:objectId\"].str.contains(\"ZTF{}\".format(year))][\n",
    "            \"i:objectId\"\n",
    "        ].unique(),\n",
    "        pdf[pdf[\"i:objectId\"].str.contains(\"ZTF{}\".format(last_year))][\n",
    "            \"i:objectId\"\n",
    "        ].unique(),\n",
    "    ]\n",
    ")"
   ]
  },
  {
   "cell_type": "code",
   "execution_count": 7,
   "id": "9e380a40-881b-4e95-9294-0a8708b98fa3",
   "metadata": {},
   "outputs": [],
   "source": [
    "def tau_500(l,b,silence=False):\n",
    "    \"\"\"\n",
    "    Return the closest value for a given latitude (b)\n",
    "    #MROZ b bins, ignoring longitude limits\n",
    "    #https://iopscience.iop.org/0067-0049/249/1/16/suppdata/apjsab9366t2_ascii.txt?doi=10.3847/1538-4365/ab9366\n",
    "    Parameters:\n",
    "        l (float): longitude\n",
    "        b (float): latitude\n",
    "        silence (bool): longitude out of range message silenced\n",
    "\n",
    "    Returns:\n",
    "        tau (float): The corresponding tau value. np.nan outside\n",
    "    \"\"\"\n",
    "    if not (240 < l < 330):\n",
    "        if silence == False:\n",
    "            print(\"Warning: Longitude out of range\")\n",
    "    if -7 < b < -5:\n",
    "        return 0.076\n",
    "    elif -5 < b < -3:\n",
    "        return 0.131\n",
    "    elif -3 < b < -1:\n",
    "        return 0.277\n",
    "    elif -1 < b < 1:\n",
    "        return 0.119\n",
    "    elif 1 < b < 3:\n",
    "        return 0.094\n",
    "    elif 3 < b < 5:\n",
    "        return 0.155\n",
    "    elif 5 < b < 7:\n",
    "        return 0.08\n",
    "    else:\n",
    "        return np.nan\n",
    "\n",
    "\n",
    "l = np.random.uniform(140, 330, 1000)\n",
    "b = np.random.uniform(-7, 7, 1000)\n",
    "\n",
    "tau_500_vec = np.vectorize(tau_500)\n",
    "tau = tau_500_vec(l, b,True)\n",
    "\n"
   ]
  },
  {
   "cell_type": "code",
   "execution_count": 4,
   "id": "b3ec876f-2b6d-405f-8350-80a7c4a29466",
   "metadata": {},
   "outputs": [
    {
     "ename": "NameError",
     "evalue": "name 'pdf' is not defined",
     "output_type": "error",
     "traceback": [
      "\u001b[0;31m---------------------------------------------------------------------------\u001b[0m",
      "\u001b[0;31mNameError\u001b[0m                                 Traceback (most recent call last)",
      "Cell \u001b[0;32mIn[4], line 3\u001b[0m\n\u001b[1;32m      1\u001b[0m \u001b[38;5;28;01mfrom\u001b[39;00m\u001b[38;5;250m \u001b[39m\u001b[38;5;21;01mastropy\u001b[39;00m\u001b[38;5;21;01m.\u001b[39;00m\u001b[38;5;21;01mcoordinates\u001b[39;00m\u001b[38;5;250m \u001b[39m\u001b[38;5;28;01mimport\u001b[39;00m Galactic, SkyCoord\n\u001b[1;32m      2\u001b[0m \u001b[38;5;28;01mfrom\u001b[39;00m\u001b[38;5;250m \u001b[39m\u001b[38;5;21;01mastropy\u001b[39;00m\u001b[38;5;250m \u001b[39m\u001b[38;5;28;01mimport\u001b[39;00m units \u001b[38;5;28;01mas\u001b[39;00m u\n\u001b[0;32m----> 3\u001b[0m c \u001b[38;5;241m=\u001b[39m SkyCoord(ra\u001b[38;5;241m=\u001b[39mnp\u001b[38;5;241m.\u001b[39marray(\u001b[43mpdf\u001b[49m[\u001b[38;5;124m\"\u001b[39m\u001b[38;5;124mi:ra\u001b[39m\u001b[38;5;124m\"\u001b[39m]\u001b[38;5;241m.\u001b[39marray)\u001b[38;5;241m*\u001b[39mu\u001b[38;5;241m.\u001b[39mdegree, \n\u001b[1;32m      4\u001b[0m              dec\u001b[38;5;241m=\u001b[39mnp\u001b[38;5;241m.\u001b[39marray(pdf[\u001b[38;5;124m\"\u001b[39m\u001b[38;5;124mi:dec\u001b[39m\u001b[38;5;124m\"\u001b[39m]\u001b[38;5;241m.\u001b[39marray)\u001b[38;5;241m*\u001b[39mu\u001b[38;5;241m.\u001b[39mdegree, frame\u001b[38;5;241m=\u001b[39m\u001b[38;5;124m'\u001b[39m\u001b[38;5;124micrs\u001b[39m\u001b[38;5;124m'\u001b[39m)\n\u001b[1;32m      6\u001b[0m tau_values \u001b[38;5;241m=\u001b[39m tau_500(c\u001b[38;5;241m.\u001b[39mgalactic\u001b[38;5;241m.\u001b[39ml\u001b[38;5;241m.\u001b[39mdeg,c\u001b[38;5;241m.\u001b[39mgalactic\u001b[38;5;241m.\u001b[39mb\u001b[38;5;241m.\u001b[39mdeg)\n\u001b[1;32m      7\u001b[0m plt\u001b[38;5;241m.\u001b[39mscatter(c\u001b[38;5;241m.\u001b[39mgalactic\u001b[38;5;241m.\u001b[39ml\u001b[38;5;241m.\u001b[39mdeg[tau_values\u001b[38;5;241m>\u001b[39m\u001b[38;5;241m0\u001b[39m],c\u001b[38;5;241m.\u001b[39mgalactic\u001b[38;5;241m.\u001b[39mb\u001b[38;5;241m.\u001b[39mdeg[tau_values\u001b[38;5;241m>\u001b[39m\u001b[38;5;241m0\u001b[39m],c\u001b[38;5;241m=\u001b[39mtau_values[tau_values\u001b[38;5;241m>\u001b[39m\u001b[38;5;241m0\u001b[39m])\n",
      "\u001b[0;31mNameError\u001b[0m: name 'pdf' is not defined"
     ]
    }
   ],
   "source": [
    "from astropy.coordinates import Galactic, SkyCoord\n",
    "from astropy import units as u\n",
    "c = SkyCoord(ra=np.array(pdf[\"i:ra\"].array)*u.degree, \n",
    "             dec=np.array(pdf[\"i:dec\"].array)*u.degree, frame='icrs')\n",
    "\n",
    "tau_values = tau_500(c.galactic.l.deg,c.galactic.b.deg)\n",
    "plt.scatter(c.galactic.l.deg[tau_values>0],c.galactic.b.deg[tau_values>0],c=tau_values[tau_values>0])"
   ]
  },
  {
   "cell_type": "code",
   "execution_count": 92,
   "id": "691d7d14-3699-4e09-a03e-e49b28594ba4",
   "metadata": {},
   "outputs": [
    {
     "data": {
      "text/plain": [
       "d:mulens          0.697019\n",
       "i:objectId    ZTF25aanzxdg\n",
       "Name: 162, dtype: object"
      ]
     },
     "execution_count": 92,
     "metadata": {},
     "output_type": "execute_result"
    }
   ],
   "source": [
    "pdf.cre"
   ]
  },
  {
   "cell_type": "code",
   "execution_count": 88,
   "id": "7513ccb4-0d62-47dd-8fc1-c4186bc39520",
   "metadata": {},
   "outputs": [
    {
     "data": {
      "text/html": [
       "<div>\n",
       "<style scoped>\n",
       "    .dataframe tbody tr th:only-of-type {\n",
       "        vertical-align: middle;\n",
       "    }\n",
       "\n",
       "    .dataframe tbody tr th {\n",
       "        vertical-align: top;\n",
       "    }\n",
       "\n",
       "    .dataframe thead th {\n",
       "        text-align: right;\n",
       "    }\n",
       "</style>\n",
       "<table border=\"1\" class=\"dataframe\">\n",
       "  <thead>\n",
       "    <tr style=\"text-align: right;\">\n",
       "      <th></th>\n",
       "      <th>d:mulens</th>\n",
       "      <th>i:objectId</th>\n",
       "      <th>i:magpsf</th>\n",
       "    </tr>\n",
       "  </thead>\n",
       "  <tbody>\n",
       "    <tr>\n",
       "      <th>4</th>\n",
       "      <td>0.506662</td>\n",
       "      <td>ZTF25abcwzci</td>\n",
       "      <td>15.483731</td>\n",
       "    </tr>\n",
       "    <tr>\n",
       "      <th>9</th>\n",
       "      <td>0.516662</td>\n",
       "      <td>ZTF25abcwzci</td>\n",
       "      <td>16.914572</td>\n",
       "    </tr>\n",
       "    <tr>\n",
       "      <th>10</th>\n",
       "      <td>0.478982</td>\n",
       "      <td>ZTF25abcwzci</td>\n",
       "      <td>15.870126</td>\n",
       "    </tr>\n",
       "    <tr>\n",
       "      <th>22</th>\n",
       "      <td>0.524514</td>\n",
       "      <td>ZTF25abcwzci</td>\n",
       "      <td>16.659313</td>\n",
       "    </tr>\n",
       "    <tr>\n",
       "      <th>36</th>\n",
       "      <td>0.514618</td>\n",
       "      <td>ZTF25abcwzci</td>\n",
       "      <td>17.854671</td>\n",
       "    </tr>\n",
       "    <tr>\n",
       "      <th>39</th>\n",
       "      <td>0.507982</td>\n",
       "      <td>ZTF25abcwzci</td>\n",
       "      <td>16.882347</td>\n",
       "    </tr>\n",
       "    <tr>\n",
       "      <th>52</th>\n",
       "      <td>0.489624</td>\n",
       "      <td>ZTF25abcwzci</td>\n",
       "      <td>18.015923</td>\n",
       "    </tr>\n",
       "    <tr>\n",
       "      <th>55</th>\n",
       "      <td>0.499072</td>\n",
       "      <td>ZTF25abcwzci</td>\n",
       "      <td>17.020441</td>\n",
       "    </tr>\n",
       "    <tr>\n",
       "      <th>61</th>\n",
       "      <td>0.515636</td>\n",
       "      <td>ZTF25abcwzci</td>\n",
       "      <td>18.211836</td>\n",
       "    </tr>\n",
       "    <tr>\n",
       "      <th>65</th>\n",
       "      <td>0.504129</td>\n",
       "      <td>ZTF25abcwzci</td>\n",
       "      <td>17.223764</td>\n",
       "    </tr>\n",
       "    <tr>\n",
       "      <th>66</th>\n",
       "      <td>0.471551</td>\n",
       "      <td>ZTF25abcwzci</td>\n",
       "      <td>17.220675</td>\n",
       "    </tr>\n",
       "    <tr>\n",
       "      <th>69</th>\n",
       "      <td>0.457807</td>\n",
       "      <td>ZTF25abcwzci</td>\n",
       "      <td>18.308025</td>\n",
       "    </tr>\n",
       "    <tr>\n",
       "      <th>72</th>\n",
       "      <td>0.448498</td>\n",
       "      <td>ZTF25abcwzci</td>\n",
       "      <td>18.312170</td>\n",
       "    </tr>\n",
       "    <tr>\n",
       "      <th>75</th>\n",
       "      <td>0.434750</td>\n",
       "      <td>ZTF25abcwzci</td>\n",
       "      <td>18.436193</td>\n",
       "    </tr>\n",
       "  </tbody>\n",
       "</table>\n",
       "</div>"
      ],
      "text/plain": [
       "    d:mulens    i:objectId   i:magpsf\n",
       "4   0.506662  ZTF25abcwzci  15.483731\n",
       "9   0.516662  ZTF25abcwzci  16.914572\n",
       "10  0.478982  ZTF25abcwzci  15.870126\n",
       "22  0.524514  ZTF25abcwzci  16.659313\n",
       "36  0.514618  ZTF25abcwzci  17.854671\n",
       "39  0.507982  ZTF25abcwzci  16.882347\n",
       "52  0.489624  ZTF25abcwzci  18.015923\n",
       "55  0.499072  ZTF25abcwzci  17.020441\n",
       "61  0.515636  ZTF25abcwzci  18.211836\n",
       "65  0.504129  ZTF25abcwzci  17.223764\n",
       "66  0.471551  ZTF25abcwzci  17.220675\n",
       "69  0.457807  ZTF25abcwzci  18.308025\n",
       "72  0.448498  ZTF25abcwzci  18.312170\n",
       "75  0.434750  ZTF25abcwzci  18.436193"
      ]
     },
     "execution_count": 88,
     "metadata": {},
     "output_type": "execute_result"
    }
   ],
   "source": [
    "pdf.loc[pdf[\"i:objectId\"] == \"ZTF25abcwzci\", [\"d:mulens\", \"i:objectId\", \"i:magpsf\"]]"
   ]
  },
  {
   "cell_type": "code",
   "execution_count": 95,
   "id": "29507943-ed7d-4d10-adc7-4fdf2a80d180",
   "metadata": {},
   "outputs": [
    {
     "data": {
      "text/plain": [
       "array([0., 0., 0., ..., 0., 0., 0.])"
      ]
     },
     "execution_count": 95,
     "metadata": {},
     "output_type": "execute_result"
    }
   ],
   "source": [
    "tau_values"
   ]
  },
  {
   "cell_type": "code",
   "execution_count": null,
   "id": "79b32da1-fb8d-486c-9e7b-bee69e151ab0",
   "metadata": {},
   "outputs": [],
   "source": [
    "np.tau_values"
   ]
  }
 ],
 "metadata": {
  "kernelspec": {
   "display_name": "Python 3 (ipykernel)",
   "language": "python",
   "name": "python3"
  },
  "language_info": {
   "codemirror_mode": {
    "name": "ipython",
    "version": 3
   },
   "file_extension": ".py",
   "mimetype": "text/x-python",
   "name": "python",
   "nbconvert_exporter": "python",
   "pygments_lexer": "ipython3",
   "version": "3.12.3"
  }
 },
 "nbformat": 4,
 "nbformat_minor": 5
}

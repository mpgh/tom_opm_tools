{
 "cells": [
  {
   "cell_type": "code",
   "execution_count": 24,
   "id": "96433fd9-e7e6-490c-acee-2fe7b66b53ac",
   "metadata": {},
   "outputs": [],
   "source": [
    "import datetime\n",
    "import io\n",
    "import requests\n",
    "import matplotlib.pyplot as plt\n",
    "import numpy as np\n",
    "import pandas as pd\n",
    "import time\n",
    "from alerce.core import Alerce\n",
    "# Getting classes for a classifier and version\n"
   ]
  },
  {
   "cell_type": "code",
   "execution_count": 25,
   "id": "e504fe9c-42ce-4f8f-ae54-6260deafbfc9",
   "metadata": {},
   "outputs": [],
   "source": [
    "r = requests.post(\n",
    "    \"https://api.fink-portal.org/api/v1/latests\",\n",
    "    json={\n",
    "        \"class\": \"Microlensing candidate\",\n",
    "        \"output-format\": \"json\",\n",
    "        \"output-format\": \"json\",\n",
    "        \"n\": 2000,\n",
    "    },\n",
    ")\n",
    "pdf = pd.read_json(io.BytesIO(r.content))\n",
    "#pdf.to_csv(\"test_query_2k_microlensing_Aug2025.csv\")"
   ]
  },
  {
   "cell_type": "code",
   "execution_count": 35,
   "id": "70e4fd45-fc4e-41f6-9873-0ece2e721fe4",
   "metadata": {},
   "outputs": [],
   "source": [
    "#from astroquery.ipac.ned import Ned\n",
    "from astroquery.simbad import Simbad\n",
    "from astropy.coordinates import SkyCoord\n",
    "from astropy import units as u\n",
    "\n",
    "#Ned.clear_cache()\n",
    "#result_table = Ned.query_region(coords, radius=1/60. * u.deg)\n",
    "coords = SkyCoord(ra=pdf[\"i:ra\"].array*u.deg, dec=pdf[\"i:dec\"].array*u.deg, frame='icrs')\n",
    "custom_simbad = Simbad()\n",
    "custom_simbad.add_votable_fields('otype')\n",
    "result = custom_simbad.query_region(coords, radius=1/60. * u.deg)\n",
    "mask_galaxy = result['otype'] == 'G'\n",
    "galaxies = result[mask_galaxy]\n"
   ]
  },
  {
   "cell_type": "code",
   "execution_count": 4,
   "id": "71ea59cd-09dc-4a57-bf9e-22e84a04f53d",
   "metadata": {},
   "outputs": [],
   "source": [
    "year = str(datetime.datetime.now().year)[2:]\n",
    "last_year = str(datetime.datetime.now().year - 1)[2:]\n",
    "unique_recent = np.concatenate(\n",
    "    [\n",
    "        pdf[pdf[\"i:objectId\"].str.contains(\"ZTF{}\".format(year))][\n",
    "            \"i:objectId\"\n",
    "        ].unique(),\n",
    "        pdf[pdf[\"i:objectId\"].str.contains(\"ZTF{}\".format(last_year))][\n",
    "            \"i:objectId\"\n",
    "        ].unique(),\n",
    "    ]\n",
    ")"
   ]
  },
  {
   "cell_type": "code",
   "execution_count": 8,
   "id": "350dee8f-a058-4226-a367-a3f6965bd944",
   "metadata": {},
   "outputs": [],
   "source": [
    "object_names = [str(x) for x in unique_recent] # object_names"
   ]
  },
  {
   "cell_type": "code",
   "execution_count": 6,
   "id": "b47047c7-ad7f-4978-b130-e4e94b950829",
   "metadata": {},
   "outputs": [],
   "source": [
    "#Download all lightcurves and classifications fink\n",
    "#for object_id in object_names:\n",
    "#    r = requests.post(\n",
    "#        \"https://api.fink-portal.org/api/v1/objects\",\n",
    "#        json={\"objectId\": object_id, \"output-format\": \"json\"},\n",
    "#    )   \n",
    "#    pdf = pd.read_json(io.BytesIO(r.content))\n",
    "#    filename = f\"{object_id}.csv\"\n",
    "#    time.sleep(1)\n",
    "#    pdf.to_csv(filename, index=False)"
   ]
  },
  {
   "cell_type": "code",
   "execution_count": null,
   "id": "4df76cf4-7b71-4db5-a375-86937194a848",
   "metadata": {},
   "outputs": [],
   "source": [
    "#Download all classifications ALeRCE\n",
    "#import os\n",
    "#from alerce.core import Alerce\n",
    "#alerce = Alerce()\n",
    "#for object_id in object_names:\n",
    "#    print(object_id)\n",
    "#    filename = f\"ALeRCE_classifiers_{object_id}.csv\"\n",
    "#    if not os.path.exists(filename):\n",
    "#        try:\n",
    "#            probabilities = alerce.query_probabilities(object_id)\n",
    "#            prob_pd = pd.DataFrame.from_dict(probabilities)\n",
    "#            prob_pd.to_csv(filename, index=False)\n",
    "#        except Exception as e:\n",
    "#            print(\"Unavailable {}\".format(e))\n"
   ]
  },
  {
   "cell_type": "code",
   "execution_count": null,
   "id": "bb8eaa58-6c46-4d62-afa1-fc3931dd47f4",
   "metadata": {},
   "outputs": [],
   "source": [
    "\n"
   ]
  },
  {
   "cell_type": "code",
   "execution_count": null,
   "id": "9e380a40-881b-4e95-9294-0a8708b98fa3",
   "metadata": {},
   "outputs": [],
   "source": [
    "def tau_500(l,b,silence=False):\n",
    "    \"\"\"\n",
    "    Return the closest value for a given latitude (b)\n",
    "    #MROZ b bins, ignoring longitude limits\n",
    "    #https://iopscience.iop.org/0067-0049/249/1/16/suppdata/apjsab9366t2_ascii.txt?doi=10.3847/1538-4365/ab9366\n",
    "    Parameters:\n",
    "        l (float): longitude\n",
    "        b (float): latitude\n",
    "        silence (bool): longitude out of range message silenced\n",
    "\n",
    "    Returns:\n",
    "        tau (float): The corresponding tau value. np.nan outside\n",
    "    \"\"\"\n",
    "    if not (240 < l < 330):\n",
    "        if silence == False:\n",
    "            print(\"Warning: Longitude out of range\")\n",
    "    if -7 < b < -5:\n",
    "        return 0.076\n",
    "    elif -5 < b < -3:\n",
    "        return 0.131\n",
    "    elif -3 < b < -1:\n",
    "        return 0.277\n",
    "    elif -1 < b < 1:\n",
    "        return 0.119\n",
    "    elif 1 < b < 3:\n",
    "        return 0.094\n",
    "    elif 3 < b < 5:\n",
    "        return 0.155\n",
    "    elif 5 < b < 7:\n",
    "        return 0.08\n",
    "    else:\n",
    "        return np.nan\n",
    "\n",
    "tau_500_vec = np.vectorize(tau_500)\n",
    "\n"
   ]
  },
  {
   "cell_type": "code",
   "execution_count": null,
   "id": "b3ec876f-2b6d-405f-8350-80a7c4a29466",
   "metadata": {},
   "outputs": [],
   "source": [
    "from astropy.coordinates import Galactic, SkyCoord\n",
    "from astropy import units as u\n",
    "c = SkyCoord(ra=np.array(pdf[\"i:ra\"].array)*u.degree, \n",
    "             dec=np.array(pdf[\"i:dec\"].array)*u.degree, frame='icrs')\n",
    "\n",
    "tau_values = tau_500(c.galactic.l.deg,c.galactic.b.deg)\n",
    "plt.scatter(c.galactic.l.deg[tau_values>0],c.galactic.b.deg[tau_values>0],c=tau_values[tau_values>0])"
   ]
  },
  {
   "cell_type": "code",
   "execution_count": null,
   "id": "691d7d14-3699-4e09-a03e-e49b28594ba4",
   "metadata": {},
   "outputs": [],
   "source": [
    "pdf.cre"
   ]
  },
  {
   "cell_type": "code",
   "execution_count": null,
   "id": "7513ccb4-0d62-47dd-8fc1-c4186bc39520",
   "metadata": {},
   "outputs": [],
   "source": [
    "pdf.loc[pdf[\"i:objectId\"] == \"ZTF25abcwzci\", [\"d:mulens\", \"i:objectId\", \"i:magpsf\"]]"
   ]
  },
  {
   "cell_type": "code",
   "execution_count": null,
   "id": "29507943-ed7d-4d10-adc7-4fdf2a80d180",
   "metadata": {},
   "outputs": [],
   "source": [
    "tau_values"
   ]
  },
  {
   "cell_type": "code",
   "execution_count": null,
   "id": "79b32da1-fb8d-486c-9e7b-bee69e151ab0",
   "metadata": {},
   "outputs": [],
   "source": [
    "np.tau_values"
   ]
  }
 ],
 "metadata": {
  "kernelspec": {
   "display_name": "Python 3 (ipykernel)",
   "language": "python",
   "name": "python3"
  },
  "language_info": {
   "codemirror_mode": {
    "name": "ipython",
    "version": 3
   },
   "file_extension": ".py",
   "mimetype": "text/x-python",
   "name": "python",
   "nbconvert_exporter": "python",
   "pygments_lexer": "ipython3",
   "version": "3.12.3"
  }
 },
 "nbformat": 4,
 "nbformat_minor": 5
}

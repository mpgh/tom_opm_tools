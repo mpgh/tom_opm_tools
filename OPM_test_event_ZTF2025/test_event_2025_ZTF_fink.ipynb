{
 "cells": [
  {
   "cell_type": "code",
   "execution_count": null,
   "id": "335ad69f-3204-4f7f-93c0-d169d04a6007",
   "metadata": {},
   "outputs": [],
   "source": [
    "import io\n",
    "import matplotlib.pyplot as plt\n",
    "import pandas as pd\n",
    "import requests"
   ]
  },
  {
   "cell_type": "code",
   "execution_count": null,
   "id": "580ad848-6475-4ba3-bec9-78e7d9ce6db6",
   "metadata": {},
   "outputs": [],
   "source": [
    "r = requests.post(\n",
    "    \"https://api.fink-portal.org/api/v1/objects\",\n",
    "    json={\"objectId\": \"ZTF25abcwzci\", \"output-format\": \"json\"},\n",
    ")\n",
    "pdf = pd.read_json(io.BytesIO(r.content))\n",
    "# rename TOM MOP OPM\n",
    "namedic = {1: \"ZTF_g\", 2: \"ZTF_r\"}\n",
    "pdf[\"filter\"] = pdf[\"i:fid\"].map(namedic)\n",
    "new_pdf = pdf[[\"i:jd\", \"filter\", \"i:magpsf\", \"i:sigmapsf\", \"d:mulens\"]].copy()\n",
    "new_pdf = new_pdf.rename(\n",
    "    columns={\"i:jd\": \"time\", \"i:magpsf\": \"magnitude\", \"i:sigmapsf\": \"error\"}\n",
    ")\n",
    "# new_pdf.to_csv(\"{}.csv\".format(pdf[\"i:objectId\"][0]), index=False)"
   ]
  },
  {
   "cell_type": "code",
   "execution_count": null,
   "id": "0a53df41-654e-478a-8a7d-89bd6f10b363",
   "metadata": {},
   "outputs": [],
   "source": [
    "plt.gca().invert_yaxis()\n",
    "for fid in range(1, 3):\n",
    "    mask_filt = new_pdf[\"filter\"] == namedic[fid]\n",
    "    plt.errorbar(\n",
    "        new_pdf[\"time\"][mask_filt].array,\n",
    "        new_pdf[\"magnitude\"][mask_filt].array,\n",
    "        yerr=new_pdf[\"error\"][mask_filt].array,\n",
    "        fmt=\".\",\n",
    "        label=namedic[fid],\n",
    "    )\n",
    "    plt.scatter(\n",
    "        new_pdf[\"time\"][mask_filt].array,\n",
    "        new_pdf[\"magnitude\"][mask_filt].array,\n",
    "        c=new_pdf[\"d:mulens\"][mask_filt].array,\n",
    "        s=70,\n",
    "        cmap=\"jet\",\n",
    "        zorder=0,\n",
    "        alpha=0.5,\n",
    "    )\n",
    "cb = plt.colorbar()\n",
    "plt.legend()"
   ]
  },
  {
   "cell_type": "code",
   "execution_count": null,
   "id": "692e3332-c0f6-453e-97e6-693fd7170c4c",
   "metadata": {},
   "outputs": [],
   "source": []
  },
  {
   "cell_type": "code",
   "execution_count": null,
   "id": "f26cb65b-a8d4-4278-b9cf-bfbeeb220716",
   "metadata": {},
   "outputs": [],
   "source": [
    "# %config InlineBackend.figure_formats = ['svg']\n",
    "import numpy as np\n",
    "from iminuit import Minuit, cost\n",
    "from matplotlib import pyplot as plt\n",
    "from numba_stats import bernstein, norm, t, truncexpon"
   ]
  },
  {
   "cell_type": "code",
   "execution_count": null,
   "id": "2bec91c7-c030-4dfc-a61d-e50bd7be5531",
   "metadata": {},
   "outputs": [],
   "source": []
  },
  {
   "cell_type": "code",
   "execution_count": null,
   "id": "d963a337-f639-4a7e-bbc9-ddf448be6fdf",
   "metadata": {},
   "outputs": [],
   "source": [
    "def pspl_no_blend(x, log10u0, log10te, t0, fs,fb ):\n",
    "    u0 = 10**log10u0\n",
    "    te = 10**log10te\n",
    "    usqr = u0**2 + (x - t0) ** 2 / te**2\n",
    "    return fs * (usqr + 2) / (usqr * (usqr + 4.0)) ** 0.5 + fb\n",
    "\n",
    "flux = 10.0 ** (-0.4 * new_pdf[\"magnitude\"][mask_filt].array)\n",
    "err_flux = np.abs(new_pdf[\"error\"][mask_filt].array * flux * np.log(10) / 2.5)\n",
    "guess = (\n",
    "    np.log10(1),\n",
    "    np.log10(30.0),\n",
    "    new_pdf[\"time\"][mask_filt].array[np.argmax(new_pdf[\"time\"][mask_filt].array)],\n",
    "    np.median(flux),np.min(flux)\n",
    ")\n",
    "print(guess)\n",
    "c = cost.LeastSquares(new_pdf[\"time\"][mask_filt].array, flux, err_flux, pspl_no_blend)\n",
    "m = Minuit(c, *guess )\n",
    "\n",
    "m.migrad()"
   ]
  },
  {
   "cell_type": "code",
   "execution_count": null,
   "id": "e53f6722-de23-41f1-92df-9a7b2a6b2191",
   "metadata": {},
   "outputs": [],
   "source": []
  }
 ],
 "metadata": {
  "kernelspec": {
   "display_name": "Python 3 (ipykernel)",
   "language": "python",
   "name": "python3"
  },
  "language_info": {
   "codemirror_mode": {
    "name": "ipython",
    "version": 3
   },
   "file_extension": ".py",
   "mimetype": "text/x-python",
   "name": "python",
   "nbconvert_exporter": "python",
   "pygments_lexer": "ipython3",
   "version": "3.12.3"
  }
 },
 "nbformat": 4,
 "nbformat_minor": 5
}
